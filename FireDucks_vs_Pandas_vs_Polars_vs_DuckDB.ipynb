{
  "cells": [
    {
      "cell_type": "code",
      "execution_count": null,
      "metadata": {
        "id": "FqF2aCCPUShb"
      },
      "outputs": [],
      "source": [
        "!pip install fireducks"
      ]
    },
    {
      "cell_type": "code",
      "source": [
        "!pip install polars"
      ],
      "metadata": {
        "id": "tQG0Wm3e3jqH"
      },
      "execution_count": null,
      "outputs": []
    },
    {
      "cell_type": "code",
      "source": [
        "!pip install duckdb"
      ],
      "metadata": {
        "id": "-mo7xjGr6Fo9"
      },
      "execution_count": null,
      "outputs": []
    },
    {
      "cell_type": "code",
      "execution_count": null,
      "metadata": {
        "id": "3roUn9XiUE8G"
      },
      "outputs": [],
      "source": [
        "# download the dataset:\n",
        "\n",
        "import urllib.request\n",
        "s3_path = \"https://modin-datasets.s3.amazonaws.com/testing/yellow_tripdata_2015-01.csv\"\n",
        "urllib.request.urlretrieve(s3_path, \"taxi.csv\")"
      ]
    },
    {
      "cell_type": "markdown",
      "source": [
        "# FireDucks"
      ],
      "metadata": {
        "id": "lvwoJMg82ubd"
      }
    },
    {
      "cell_type": "code",
      "execution_count": null,
      "metadata": {
        "id": "fzuTMjVznk84"
      },
      "outputs": [],
      "source": [
        "import fireducks.pandas as pd\n",
        "import time"
      ]
    },
    {
      "cell_type": "code",
      "source": [
        "start = time.time()\n",
        "\n",
        "df = pd.read_csv(\"taxi.csv\")\n",
        "\n",
        "big_df = pd.concat([df for _ in range(20)])\n",
        "\n",
        "df = df.drop(columns = [\"congestion_surcharge\", \"airport_fee\"])\n",
        "\n",
        "new_df = df.sort_values(by = \"fare_amount\").reset_index(drop=True)\n",
        "\n",
        "t1 = big_df.groupby(\"PULocationID\").mta_tax.mean().reset_index()\n",
        "t2 = big_df.groupby(\"PULocationID\").tip_amount.mean().reset_index()\n",
        "t3 = big_df.groupby(\"PULocationID\").tolls_amount.mean().reset_index()\n",
        "t4 = big_df.groupby(\"PULocationID\").trip_distance.mean().reset_index()\n",
        "\n",
        "\n",
        "t5 = big_df.groupby(\"DOLocationID\").mta_tax.mean().reset_index()\n",
        "t6 = big_df.groupby(\"DOLocationID\").tip_amount.mean().reset_index()\n",
        "t7 = big_df.groupby(\"DOLocationID\").tolls_amount.mean().reset_index()\n",
        "t8 = big_df.groupby(\"DOLocationID\").trip_distance.mean().reset_index()\n",
        "\n",
        "a = (t1._evaluate(), t2._evaluate(), t3._evaluate(), t4._evaluate(),\n",
        "     t5._evaluate(), t6._evaluate(), t7._evaluate(), t8._evaluate())\n",
        "\n",
        "print(f\"FireDucks run-time = {round(time.time()-start, 4)} seconds\")"
      ],
      "metadata": {
        "id": "u-FT1j8W2f2c"
      },
      "execution_count": null,
      "outputs": []
    },
    {
      "cell_type": "markdown",
      "source": [
        "# Pandas\n",
        "\n",
        "Restart the session and run Pandas code"
      ],
      "metadata": {
        "id": "1p0vHm4p2xqe"
      }
    },
    {
      "cell_type": "code",
      "source": [
        "import pandas as pd\n",
        "import time"
      ],
      "metadata": {
        "id": "vtNqCfQD2qjO"
      },
      "execution_count": null,
      "outputs": []
    },
    {
      "cell_type": "code",
      "source": [
        "start = time.time()\n",
        "\n",
        "df = pd.read_csv(\"taxi.csv\")\n",
        "\n",
        "big_df = pd.concat([df for _ in range(20)])\n",
        "\n",
        "df = df.drop(columns = [\"congestion_surcharge\", \"airport_fee\"])\n",
        "\n",
        "new_df = df.sort_values(by = \"fare_amount\").reset_index(drop=True)\n",
        "\n",
        "t1 = big_df.groupby(\"PULocationID\").mta_tax.mean().reset_index()\n",
        "t2 = big_df.groupby(\"PULocationID\").tip_amount.mean().reset_index()\n",
        "t3 = big_df.groupby(\"PULocationID\").tolls_amount.mean().reset_index()\n",
        "t4 = big_df.groupby(\"PULocationID\").trip_distance.mean().reset_index()\n",
        "\n",
        "\n",
        "t5 = big_df.groupby(\"DOLocationID\").mta_tax.mean().reset_index()\n",
        "t6 = big_df.groupby(\"DOLocationID\").tip_amount.mean().reset_index()\n",
        "t7 = big_df.groupby(\"DOLocationID\").tolls_amount.mean().reset_index()\n",
        "t8 = big_df.groupby(\"DOLocationID\").trip_distance.mean().reset_index()\n",
        "\n",
        "a = (t1, t2, t3, t4,\n",
        "     t5, t6, t7, t8)\n",
        "\n",
        "print(f\"Pandas run-time = {round(time.time()-start, 4)} seconds\")"
      ],
      "metadata": {
        "id": "JDxw2EbM2zpG"
      },
      "execution_count": null,
      "outputs": []
    },
    {
      "cell_type": "markdown",
      "source": [
        "# Polars"
      ],
      "metadata": {
        "id": "opySzXzA3TEj"
      }
    },
    {
      "cell_type": "code",
      "source": [
        "import polars as pl\n",
        "import time"
      ],
      "metadata": {
        "id": "50zpBDkw3Fo1"
      },
      "execution_count": null,
      "outputs": []
    },
    {
      "cell_type": "code",
      "source": [
        "start = time.time()\n",
        "\n",
        "df = pl.scan_csv(\"taxi.csv\")\n",
        "\n",
        "big_df = pl.concat([df for _ in range(20)])\n",
        "\n",
        "df = df.drop([\"congestion_surcharge\", \"airport_fee\"])\n",
        "\n",
        "new_df = df.sort(by = \"fare_amount\")\n",
        "\n",
        "t1 = big_df.group_by(\"PULocationID\").agg(pl.mean(\"mta_tax\"))\n",
        "t2 = big_df.group_by(\"PULocationID\").agg(pl.mean(\"tip_amount\"))\n",
        "t3 = big_df.group_by(\"PULocationID\").agg(pl.mean(\"tolls_amount\"))\n",
        "t4 = big_df.group_by(\"PULocationID\").agg(pl.mean(\"trip_distance\"))\n",
        "\n",
        "\n",
        "t5 = big_df.group_by(\"DOLocationID\").agg(pl.mean(\"mta_tax\"))\n",
        "t6 = big_df.group_by(\"DOLocationID\").agg(pl.mean(\"tip_amount\"))\n",
        "t7 = big_df.group_by(\"DOLocationID\").agg(pl.mean(\"tolls_amount\"))\n",
        "t8 = big_df.group_by(\"DOLocationID\").agg(pl.mean(\"trip_distance\"))\n",
        "\n",
        "a = (t1.collect(), t2.collect(), t3.collect(), t4.collect(),\n",
        "     t5.collect(), t6.collect(), t7.collect(), t8.collect())\n",
        "\n",
        "print(f\"Polars run-time = {round(time.time()-start, 4)} seconds\")"
      ],
      "metadata": {
        "colab": {
          "base_uri": "https://localhost:8080/"
        },
        "id": "LGTg9gyD3hgS",
        "outputId": "192d046e-ec01-4284-c401-a8a3077fef98"
      },
      "execution_count": null,
      "outputs": [
        {
          "output_type": "stream",
          "name": "stdout",
          "text": [
            "Polars run-time = 29.2099 seconds\n"
          ]
        }
      ]
    },
    {
      "cell_type": "markdown",
      "source": [
        "# DuckDB"
      ],
      "metadata": {
        "id": "MjeDwpNt5dU4"
      }
    },
    {
      "cell_type": "code",
      "source": [
        "import duckdb\n",
        "import time"
      ],
      "metadata": {
        "id": "dfYda5XL5gEk"
      },
      "execution_count": null,
      "outputs": []
    },
    {
      "cell_type": "code",
      "source": [
        "start = time.time()\n",
        "\n",
        "con = duckdb.connect(database=':memory:')\n",
        "con.execute(\"CREATE TABLE taxi AS SELECT * FROM read_csv_auto('taxi.csv')\")\n",
        "\n",
        "con.execute(f\"CREATE TABLE big_taxi AS {'SELECT * FROM taxi UNION ALL '*19} SELECT * FROM taxi\")\n",
        "\n",
        "con.execute(\"CREATE TABLE taxi_reduced AS SELECT * EXCLUDE (congestion_surcharge, airport_fee) FROM taxi\")\n",
        "\n",
        "sorted_df = con.execute(\"SELECT * FROM taxi_reduced ORDER BY fare_amount\").fetch_df()\n",
        "\n",
        "t1 = con.execute(\"SELECT PULocationID, AVG(mta_tax) FROM big_taxi GROUP BY PULocationID\")\n",
        "t2 = con.execute(\"SELECT PULocationID, AVG(tip_amount) FROM big_taxi GROUP BY PULocationID\")\n",
        "t3 = con.execute(\"SELECT PULocationID, AVG(tolls_amount) FROM big_taxi GROUP BY PULocationID\")\n",
        "t4 = con.execute(\"SELECT PULocationID, AVG(trip_distance) FROM big_taxi GROUP BY PULocationID\")\n",
        "\n",
        "t5 = con.execute(\"SELECT DOLocationID, AVG(mta_tax) FROM big_taxi GROUP BY DOLocationID\")\n",
        "t6 = con.execute(\"SELECT DOLocationID, AVG(tip_amount) FROM big_taxi GROUP BY DOLocationID\")\n",
        "t7 = con.execute(\"SELECT DOLocationID, AVG(tolls_amount) FROM big_taxi GROUP BY DOLocationID\")\n",
        "t8 = con.execute(\"SELECT DOLocationID, AVG(trip_distance) FROM big_taxi GROUP BY DOLocationID\")\n",
        "\n",
        "a = (t1.fetch_df(), t2.fetch_df(), t3.fetch_df(), t4.fetch_df(),\n",
        "     t5.fetch_df(), t6.fetch_df(), t7.fetch_df(), t8.fetch_df())\n",
        "\n",
        "print(f\"DuckDB run-time = {round(time.time()-start, 4)} seconds\")"
      ],
      "metadata": {
        "colab": {
          "base_uri": "https://localhost:8080/",
          "height": 66,
          "referenced_widgets": [
            "be455a5d87cb426da321d36107550297",
            "6dd3e3af95724f04a7ed7d34869b6961",
            "cab4e41c90054694b8ca230313884295"
          ]
        },
        "id": "vjDHQaHR4Hgf",
        "outputId": "804140eb-bb99-4ff4-f710-b22c67c32ed1"
      },
      "execution_count": null,
      "outputs": [
        {
          "output_type": "display_data",
          "data": {
            "text/plain": [
              "FloatProgress(value=0.0, layout=Layout(width='auto'), style=ProgressStyle(bar_color='black'))"
            ],
            "application/vnd.jupyter.widget-view+json": {
              "version_major": 2,
              "version_minor": 0,
              "model_id": "be455a5d87cb426da321d36107550297"
            }
          },
          "metadata": {}
        },
        {
          "output_type": "stream",
          "name": "stdout",
          "text": [
            "DuckDB run-time = 8.0222 seconds\n"
          ]
        }
      ]
    },
    {
      "cell_type": "markdown",
      "source": [
        "## Let's understand the changes"
      ],
      "metadata": {
        "id": "s7VFB1UoqHHl"
      }
    },
    {
      "cell_type": "code",
      "source": [
        "%load_ext fireducks.pandas\n",
        "import pandas as pd\n",
        "pd.__name__"
      ],
      "metadata": {
        "id": "OETCJInQoq-L"
      },
      "execution_count": null,
      "outputs": []
    },
    {
      "cell_type": "code",
      "source": [
        "%%fireducks.profile\n",
        "t1 = time.time()\n",
        "df = pd.read_csv(\"taxi.csv\").groupby(\"PULocationID\").tip_amount.mean().reset_index() # nothing is executed, because there is no explicit evaluation\n",
        "t2 = time.time()\n",
        "print(f\"execution time: {t2 - t1} sec\")"
      ],
      "metadata": {
        "id": "c7qgzZcVpCwV"
      },
      "execution_count": null,
      "outputs": []
    },
    {
      "cell_type": "code",
      "source": [
        "%%fireducks.profile # shows execution time for each kernel-methods used in this cell expression (if executed)\n",
        "t1 = time.time()\n",
        "df = pd.read_csv(\"taxi.csv\").groupby(\"PULocationID\").tip_amount.mean().reset_index()._evaluate() # similar to polars collect(), but adding this will make it different than pandas code\n",
        "t2 = time.time()\n",
        "print(f\"execution time: {t2 - t1} sec\")"
      ],
      "metadata": {
        "id": "Iux1gR0hpE-7"
      },
      "execution_count": null,
      "outputs": []
    },
    {
      "cell_type": "code",
      "source": [
        "%%fireducks.profile # shows execution time for each kernel-methods used in this cell expression (if executed)\n",
        "t1 = time.time()\n",
        "df = pd.read_csv(\"taxi.csv\").groupby(\"PULocationID\").tip_amount.mean().reset_index()\n",
        "print(df.shape) # \"shape\" is a method that will trigger the evaluation, so you may use it if you don't want to use _evaluate() that is a non-pandas method\n",
        "t2 = time.time()\n",
        "print(f\"execution time: {t2 - t1} sec\")"
      ],
      "metadata": {
        "id": "wZoOLg_wviRa"
      },
      "execution_count": null,
      "outputs": []
    },
    {
      "cell_type": "markdown",
      "source": [
        "## For Polars\n",
        "\n",
        "\n",
        "read_csv() in polars is a eager method, so it will stop its optimization.\n",
        "Calling read_csv().lazy() will also stop optimization related to data-load.\n",
        "So better to use scan_csv() to make the comparison looks similar to FireDucks. Also in case of polars-lazy mode, in order to trigger the execution you need to invoke collect() method explicitly. Hence modified it as follows:"
      ],
      "metadata": {
        "id": "neykhXQvqWUM"
      }
    },
    {
      "cell_type": "code",
      "source": [
        "t1 = time.time()\n",
        "df = pl.scan_csv(\"taxi.csv\").group_by(\"PULocationID\").agg(pl.mean(\"tip_amount\")).collect()\n",
        "t2 = time.time()\n",
        "print(f\"execution time: {t2 - t1} sec\")"
      ],
      "metadata": {
        "id": "6Cpt3Dv5qmS-"
      },
      "execution_count": null,
      "outputs": []
    },
    {
      "cell_type": "code",
      "source": [
        "# to check polars kernel wise execution time:\n",
        "t1 = time.time()\n",
        "df = pl.scan_csv(\"taxi.csv\").group_by(\"PULocationID\").agg(pl.mean(\"tip_amount\")).profile()\n",
        "t2 = time.time()\n",
        "print(f\"execution time: {t2 - t1} sec\")\n",
        "df[1].with_columns(((pl.col(\"end\") - pl.col(\"start\")) / 1e2).alias(\"duration(msec)\"))"
      ],
      "metadata": {
        "id": "0tnxb1Tfq3KD"
      },
      "execution_count": null,
      "outputs": []
    },
    {
      "cell_type": "markdown",
      "source": [
        "## Now let's see an interesting difference\n",
        "\n",
        "When you use FireDucks, it can reuse already evaluated expression,\n",
        "\n",
        "but it seems like Polars execute entire lazy-expression for each collect. Hence it becomes slower."
      ],
      "metadata": {
        "id": "hNfruKw2ruMt"
      }
    },
    {
      "cell_type": "code",
      "source": [
        "%%fireducks.profile\n",
        "# You can see read_csv() is called only once, whereas groupby, reset_index() are called two times.\n",
        "# read_csv() is called at the time of computing \"r1\", # and it has been automatically cached by the\n",
        "# FireDucks compiler to be reused in the computation for \"r2\"\n",
        "t1 = time.time()\n",
        "df = pd.read_csv(\"taxi.csv\")\n",
        "r1 = df.groupby(\"PULocationID\").tip_amount.mean().reset_index()._evaluate()\n",
        "r2 = df.groupby(\"PULocationID\").tolls_amount.mean().reset_index()._evaluate()\n",
        "t2 = time.time()\n",
        "print(f\"execution time: {t2 - t1} sec\")"
      ],
      "metadata": {
        "id": "GXE_hQILr9Me"
      },
      "execution_count": null,
      "outputs": []
    },
    {
      "cell_type": "code",
      "source": [
        "# to check polars kernel wise execution time:\n",
        "t1 = time.time()\n",
        "df = pl.scan_csv(\"taxi.csv\")\n",
        "r1 = df.group_by(\"PULocationID\").agg(pl.mean(\"tip_amount\")).profile()\n",
        "r2 = df.group_by(\"PULocationID\").agg(pl.mean(\"tolls_amount\")).profile()\n",
        "t2 = time.time()\n",
        "print(f\"execution time: {t2 - t1} sec\")"
      ],
      "metadata": {
        "id": "l41dhvQTsNIl"
      },
      "execution_count": null,
      "outputs": []
    },
    {
      "cell_type": "code",
      "source": [
        "r1[1].with_columns(((pl.col(\"end\") - pl.col(\"start\")) / 1e2).alias(\"duration(msec)\")) # for r1: it will execute everything (read-csv, groupby-projection)"
      ],
      "metadata": {
        "id": "dD9Jk1jcsU8Z"
      },
      "execution_count": null,
      "outputs": []
    },
    {
      "cell_type": "code",
      "source": [
        "r2[1].with_columns(((pl.col(\"end\") - pl.col(\"start\")) / 1e2).alias(\"duration(msec)\")) # for r2: it will again execute everything (read-csv, groupby-projection)"
      ],
      "metadata": {
        "id": "3laf6iJCsaf9"
      },
      "execution_count": null,
      "outputs": []
    }
  ],
  "metadata": {
    "colab": {
      "provenance": [],
      "gpuType": "V28"
    },
    "kernelspec": {
      "display_name": "Python 3",
      "name": "python3"
    },
    "language_info": {
      "name": "python"
    },
    "accelerator": "TPU",
    "widgets": {
      "application/vnd.jupyter.widget-state+json": {
        "be455a5d87cb426da321d36107550297": {
          "model_module": "@jupyter-widgets/controls",
          "model_name": "FloatProgressModel",
          "model_module_version": "1.5.0",
          "state": {
            "_dom_classes": [],
            "_model_module": "@jupyter-widgets/controls",
            "_model_module_version": "1.5.0",
            "_model_name": "FloatProgressModel",
            "_view_count": null,
            "_view_module": "@jupyter-widgets/controls",
            "_view_module_version": "1.5.0",
            "_view_name": "ProgressView",
            "bar_style": "",
            "description": "",
            "description_tooltip": null,
            "layout": "IPY_MODEL_6dd3e3af95724f04a7ed7d34869b6961",
            "max": 100,
            "min": 0,
            "orientation": "horizontal",
            "style": "IPY_MODEL_cab4e41c90054694b8ca230313884295",
            "value": 100
          }
        },
        "6dd3e3af95724f04a7ed7d34869b6961": {
          "model_module": "@jupyter-widgets/base",
          "model_name": "LayoutModel",
          "model_module_version": "1.2.0",
          "state": {
            "_model_module": "@jupyter-widgets/base",
            "_model_module_version": "1.2.0",
            "_model_name": "LayoutModel",
            "_view_count": null,
            "_view_module": "@jupyter-widgets/base",
            "_view_module_version": "1.2.0",
            "_view_name": "LayoutView",
            "align_content": null,
            "align_items": null,
            "align_self": null,
            "border": null,
            "bottom": null,
            "display": null,
            "flex": null,
            "flex_flow": null,
            "grid_area": null,
            "grid_auto_columns": null,
            "grid_auto_flow": null,
            "grid_auto_rows": null,
            "grid_column": null,
            "grid_gap": null,
            "grid_row": null,
            "grid_template_areas": null,
            "grid_template_columns": null,
            "grid_template_rows": null,
            "height": null,
            "justify_content": null,
            "justify_items": null,
            "left": null,
            "margin": null,
            "max_height": null,
            "max_width": null,
            "min_height": null,
            "min_width": null,
            "object_fit": null,
            "object_position": null,
            "order": null,
            "overflow": null,
            "overflow_x": null,
            "overflow_y": null,
            "padding": null,
            "right": null,
            "top": null,
            "visibility": null,
            "width": "auto"
          }
        },
        "cab4e41c90054694b8ca230313884295": {
          "model_module": "@jupyter-widgets/controls",
          "model_name": "ProgressStyleModel",
          "model_module_version": "1.5.0",
          "state": {
            "_model_module": "@jupyter-widgets/controls",
            "_model_module_version": "1.5.0",
            "_model_name": "ProgressStyleModel",
            "_view_count": null,
            "_view_module": "@jupyter-widgets/base",
            "_view_module_version": "1.2.0",
            "_view_name": "StyleView",
            "bar_color": "black",
            "description_width": ""
          }
        }
      }
    }
  },
  "nbformat": 4,
  "nbformat_minor": 0
}